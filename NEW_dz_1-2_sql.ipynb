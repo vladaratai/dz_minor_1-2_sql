{
 "cells": [
  {
   "cell_type": "code",
   "execution_count": 2,
   "metadata": {},
   "outputs": [],
   "source": [
    "#Первое задание:\n",
    "#Есть пользователи (id, имя), которые ставят друг другу лайки. Сделать таблицы для хранения всей этой информации."
   ]
  },
  {
   "cell_type": "code",
   "execution_count": 10,
   "metadata": {},
   "outputs": [
    {
     "name": "stdout",
     "output_type": "stream",
     "text": [
      "Requirement already satisfied: psycopg2 in c:\\anaconda\\anaconda3\\lib\\site-packages (2.9.4)\n",
      "Note: you may need to restart the kernel to use updated packages.\n"
     ]
    }
   ],
   "source": [
    "%pip install psycopg2"
   ]
  },
  {
   "cell_type": "code",
   "execution_count": 2,
   "metadata": {},
   "outputs": [],
   "source": [
    "import psycopg2\n",
    "from psycopg2 import Error\n",
    "from psycopg2.extras import NamedTupleCursor\n",
    "def execute_query(query, fetch_result=False):\n",
    "    try:\n",
    "        connection = psycopg2.connect(\n",
    "                        database=\"postgres\", \n",
    "                        user='postgres',\n",
    "                        password='hfnfneq2', \n",
    "                        host='localhost', \n",
    "                        port='5432'\n",
    "                    )\n",
    "        \n",
    "        connection.autocommit = True\n",
    "        cursor = connection.cursor(cursor_factory=NamedTupleCursor)\n",
    "        cursor.execute(query)\n",
    "        if fetch_result:\n",
    "            return cursor.fetchall()\n",
    "    except (Exception, Error) as error:\n",
    "        print(\"Error while connecting to PostgreSQL\", error)\n",
    "    finally:\n",
    "        if (connection):\n",
    "            cursor.close()\n",
    "            connection.close()\n"
   ]
  },
  {
   "cell_type": "code",
   "execution_count": 3,
   "metadata": {},
   "outputs": [
    {
     "name": "stdout",
     "output_type": "stream",
     "text": [
      "DROP TABLE IF EXISTS users;\n",
      "DROP TABLE IF EXISTS likes;\n",
      "CREATE TABLE users (\n",
      "                         user_id    INT       NOT NULL,\n",
      "                         name    TEXT       NOT NULL,\n",
      "                         created    TIMESTAMP NOT NULL\n",
      "                );\n",
      "                \n",
      "CREATE TABLE likes (\n",
      "                         user_id    INT       NOT NULL,\n",
      "                         created    TIMESTAMP NOT NULL,\n",
      "                         user_id_give    INT       NOT NULL\n",
      "                  );\n",
      "                \n"
     ]
    }
   ],
   "source": [
    "import psycopg2 as pg_driver\n",
    "\n",
    "db = pg_driver.connect(\n",
    "                        database=\"postgres\", \n",
    "                        user='postgres',\n",
    "                        password='hfnfneq2', \n",
    "                        host='localhost', \n",
    "                        port='5432'\n",
    "                    )\n",
    "\n",
    "\n",
    "\n",
    "def execute_queries(db, sql_commands):\n",
    "    db.autocommit = True\n",
    "    with db.cursor() as cursor:\n",
    "        for sql_command in sql_commands:\n",
    "            print(sql_command)\n",
    "            cursor.execute(sql_command)\n",
    "\n",
    "\n",
    "sql_commands = [\"DROP TABLE IF EXISTS users;\",\n",
    "                \"DROP TABLE IF EXISTS likes;\",\n",
    "                \"\"\"CREATE TABLE users (\n",
    "                         user_id    INT       NOT NULL,\n",
    "                         name    TEXT       NOT NULL,\n",
    "                         created    TIMESTAMP NOT NULL\n",
    "                );\n",
    "                \"\"\",\n",
    "                \"\"\"CREATE TABLE likes (\n",
    "                         user_id    INT       NOT NULL,\n",
    "                         created    TIMESTAMP NOT NULL,\n",
    "                         user_id_give    INT       NOT NULL\n",
    "                  );\n",
    "                \"\"\"]\n",
    "\n",
    "\n",
    "execute_queries(db, sql_commands)\n"
   ]
  },
  {
   "cell_type": "code",
   "execution_count": 4,
   "metadata": {},
   "outputs": [
    {
     "name": "stdout",
     "output_type": "stream",
     "text": [
      "[Record(count=0)]\n",
      "[Record(count=0)]\n"
     ]
    }
   ],
   "source": [
    "import psycopg2\n",
    "from psycopg2 import Error\n",
    "from psycopg2.extras import NamedTupleCursor\n",
    "\n",
    "def execute_query(query, fetch_result=False):\n",
    "    try:\n",
    "        connection = pg_driver.connect(\n",
    "                        database=\"postgres\", \n",
    "                        user='postgres',\n",
    "                        password='hfnfneq2', \n",
    "                        host='localhost', \n",
    "                        port='5432'\n",
    "                    );\n",
    "        \n",
    "        connection.autocommit = True\n",
    "        cursor = connection.cursor(cursor_factory=NamedTupleCursor)\n",
    "        cursor.execute(query)\n",
    "        if fetch_result:\n",
    "            return cursor.fetchall()\n",
    "    except (Exception, Error) as error:\n",
    "        print(\"Error while connecting to PostgreSQL\", error)\n",
    "    finally:\n",
    "        if (connection):\n",
    "            cursor.close()\n",
    "            connection.close()\n",
    "row_count_hist = execute_query(\"select count(*) from users\", fetch_result=True)\n",
    "row_count_payment = execute_query(\"select count(*) from likes\", fetch_result=True)\n",
    "\n",
    "print(row_count_hist)\n",
    "print(row_count_payment)"
   ]
  },
  {
   "cell_type": "code",
   "execution_count": 7,
   "metadata": {},
   "outputs": [
    {
     "name": "stdout",
     "output_type": "stream",
     "text": [
      "[Record(count=5)]\n",
      "[Record(count=8)]\n"
     ]
    }
   ],
   "source": [
    "import psycopg2\n",
    "from psycopg2 import Error\n",
    "from psycopg2.extras import NamedTupleCursor\n",
    "\n",
    "def execute_query(query, fetch_result=False):\n",
    "    try:\n",
    "        connection = pg_driver.connect(\n",
    "                        database=\"postgres\", \n",
    "                        user='postgres',\n",
    "                        password='hfnfneq2', \n",
    "                        host='localhost', \n",
    "                        port='5432'\n",
    "                    );\n",
    "        \n",
    "        connection.autocommit = True\n",
    "        cursor = connection.cursor(cursor_factory=NamedTupleCursor)\n",
    "        cursor.execute(query)\n",
    "        if fetch_result:\n",
    "            return cursor.fetchall()\n",
    "    except (Exception, Error) as error:\n",
    "        print(\"Error while connecting to PostgreSQL\", error)\n",
    "    finally:\n",
    "        if (connection):\n",
    "            cursor.close()\n",
    "            connection.close()\n",
    "row_count_hist = execute_query(\"select count(*) from users\", fetch_result=True)\n",
    "row_count_payment = execute_query(\"select count(*) from likes\", fetch_result=True)\n",
    "\n",
    "print(row_count_hist)\n",
    "print(row_count_payment)"
   ]
  },
  {
   "cell_type": "code",
   "execution_count": 6,
   "metadata": {},
   "outputs": [],
   "source": [
    "query = \"\"\" INSERT INTO users (user_id, created, name) \n",
    "            VALUES \n",
    "                 (1, to_timestamp('21-05-2021 12:35:11', 'dd-mm-yyyy hh24:mi:ss'), 'Petya'),\n",
    "                 (2, to_timestamp('13-02-2013 13:35:11', 'dd-mm-yyyy hh24:mi:ss'), 'Dima'),\n",
    "                 (3, to_timestamp('14-03-2002 05:35:11', 'dd-mm-yyyy hh24:mi:ss'), 'Kirill'),\n",
    "                 (4, to_timestamp('15-05-2011 14:35:11', 'dd-mm-yyyy hh24:mi:ss'), 'Anna'),\n",
    "                 (5, to_timestamp('28-08-2013 17:35:11', 'dd-mm-yyyy hh24:mi:ss'), 'Nick')\n",
    "                 \n",
    "            \n",
    "        \"\"\"\n",
    "\n",
    "execute_query(query)\n",
    "\n",
    "query = \"\"\" INSERT INTO likes (user_id, created, user_id_give) \n",
    "            VALUES \n",
    "                 (1, to_timestamp('21-05-2021 12:35:11', 'dd-mm-yyyy hh24:mi:ss'), 5),\n",
    "                 (2, to_timestamp('13-02-2013 13:35:11', 'dd-mm-yyyy hh24:mi:ss'), 4),\n",
    "                 (3, to_timestamp('14-03-2002 05:35:11', 'dd-mm-yyyy hh24:mi:ss'), 3),\n",
    "                 (4, to_timestamp('15-05-2011 14:35:11', 'dd-mm-yyyy hh24:mi:ss'), 2),\n",
    "                 (5, to_timestamp('28-08-2013 17:35:11', 'dd-mm-yyyy hh24:mi:ss'), 1)\n",
    "                 \n",
    "            \n",
    "        \"\"\"\n",
    "\n",
    "execute_query(query)\n",
    "\n",
    "\n",
    "     \n",
    "\n",
    "query = \"\"\" INSERT INTO likes (user_id, created, user_id_give) \n",
    "            VALUES \n",
    "                 (1, to_timestamp('21-05-2021 12:35:11', 'dd-mm-yyyy hh24:mi:ss'), 4),\n",
    "                 (1, to_timestamp('13-02-2013 13:35:11', 'dd-mm-yyyy hh24:mi:ss'), 5),\n",
    "                 (2, to_timestamp('13-02-2013 13:35:11', 'dd-mm-yyyy hh24:mi:ss'), 5)\n",
    "                 \n",
    "\n",
    "                 \n",
    "            \n",
    "        \"\"\"\n",
    "\n",
    "execute_query(query)"
   ]
  },
  {
   "cell_type": "code",
   "execution_count": 8,
   "metadata": {},
   "outputs": [],
   "source": [
    "query = \"\"\" INSERT INTO users (user_id, created, name) \n",
    "            VALUES \n",
    "                 (1, to_timestamp('21-05-2021 12:35:11', 'dd-mm-yyyy hh24:mi:ss'), 'Petya')\n",
    " \n",
    "        \"\"\"\n",
    "\n",
    "execute_query(query)\n",
    "\n",
    "query = \"\"\" INSERT INTO likes (user_id, created, user_id_give) \n",
    "            VALUES \n",
    "                 (1, to_timestamp('21-05-2021 12:35:11', 'dd-mm-yyyy hh24:mi:ss'), 4)\n",
    "            \n",
    "        \"\"\"\n",
    "\n",
    "execute_query(query)"
   ]
  },
  {
   "cell_type": "code",
   "execution_count": 17,
   "metadata": {},
   "outputs": [],
   "source": [
    "#Далее запросы"
   ]
  },
  {
   "cell_type": "code",
   "execution_count": 18,
   "metadata": {},
   "outputs": [
    {
     "name": "stdout",
     "output_type": "stream",
     "text": [
      "0 Record(user_id=1, name='Petya', put_likes=8, given_likes=8)\n",
      "1 Record(user_id=5, name='Nick', put_likes=1, given_likes=1)\n",
      "2 Record(user_id=2, name='Dima', put_likes=2, given_likes=2)\n",
      "3 Record(user_id=4, name='Anna', put_likes=1, given_likes=1)\n",
      "4 Record(user_id=3, name='Kirill', put_likes=1, given_likes=1)\n"
     ]
    }
   ],
   "source": [
    "query = '''\n",
    "           select u.user_id,\n",
    "                  u.name, \n",
    "                  count(l.user_id) as put_likes,\n",
    "                  count(l.user_id_give) as given_likes \n",
    "            from users u\n",
    "            left join likes l on u.user_id = l.user_id\n",
    "            group by u.user_id, u.name\n",
    "            \n",
    "            '''\n",
    "all_rows = execute_query(query, fetch_result=True)\n",
    "for row, value in enumerate(all_rows):\n",
    "    print(row, value)"
   ]
  },
  {
   "cell_type": "code",
   "execution_count": 19,
   "metadata": {},
   "outputs": [
    {
     "name": "stdout",
     "output_type": "stream",
     "text": [
      "0 Record(user_id=3, name='Kirill', mutual_likes=1)\n"
     ]
    }
   ],
   "source": [
    "query = '''\n",
    "           select u.user_id,\n",
    "                  u.name, \n",
    "                  count(l.user_id_give) as mutual_likes \n",
    "            from users u\n",
    "            left join likes l on u.user_id = l.user_id\n",
    "            where u.user_id = l.user_id_give\n",
    "            group by u.user_id, u.name\n",
    "            \n",
    "            '''\n",
    "all_rows = execute_query(query, fetch_result=True)\n",
    "for row, value in enumerate(all_rows):\n",
    "    print(row, value)"
   ]
  },
  {
   "cell_type": "code",
   "execution_count": 20,
   "metadata": {},
   "outputs": [
    {
     "name": "stdout",
     "output_type": "stream",
     "text": [
      "0 Record(user_id=5, name='Nick', given_likes=3)\n",
      "1 Record(user_id=4, name='Anna', given_likes=3)\n",
      "2 Record(user_id=1, name='Petya', given_likes=2)\n",
      "3 Record(user_id=2, name='Dima', given_likes=1)\n",
      "4 Record(user_id=3, name='Kirill', given_likes=1)\n"
     ]
    }
   ],
   "source": [
    "query = '''\n",
    "           select u.user_id,\n",
    "                  u.name, \n",
    "                  count(l.user_id_give) as given_likes\n",
    "            from users u\n",
    "            left join likes l on u.user_id = l.user_id_give\n",
    "            group by u.user_id, u.name\n",
    "            order by given_likes desc\n",
    "            limit 5;\n",
    "            \n",
    "            '''\n",
    "all_rows = execute_query(query, fetch_result=True)\n",
    "for row, value in enumerate(all_rows):\n",
    "    print(row, value)"
   ]
  },
  {
   "cell_type": "code",
   "execution_count": 21,
   "metadata": {},
   "outputs": [],
   "source": [
    "#Второе задание\n",
    "#В воображаемой социальной сети есть Пользователи (id, имя), Фото (id, название, автор) и Комментарии К Фото (id, текст, автор, к какому Фото относится). Необходимо добавить возможность для Пользователей ставить лайки другим Пользователям, Фото или Комментариям к Фото."
   ]
  },
  {
   "cell_type": "code",
   "execution_count": 21,
   "metadata": {},
   "outputs": [
    {
     "name": "stdout",
     "output_type": "stream",
     "text": [
      "DROP TABLE IF EXISTS users2;\n",
      "DROP TABLE IF EXISTS likes;\n",
      "DROP TABLE IF EXISTS photos;\n",
      "DROP TABLE IF EXISTS comments;\n",
      "CREATE TABLE users2 (\n",
      "                         user_id    INT       NOT NULL,\n",
      "                         name       TEXT       NOT NULL\n",
      "                    );\n",
      "                CREATE TABLE photos (\n",
      "                         photo_id    INT       NOT NULL,\n",
      "                         photo_name    TEXT       NOT NULL,\n",
      "                         author_id    INT       NOT NULL\n",
      "                  );\n",
      "                CREATE TABLE comments (\n",
      "                         comment_id INT       NOT NULL,\n",
      "                         user_id    INT       NOT NULL,\n",
      "                         text    TEXT       NOT NULL,\n",
      "                         author_id    INT       NOT NULL,\n",
      "                         photo_id    INT       NOT NULL\n",
      "                  );\n",
      "                CREATE TABLE likes (\n",
      "                         user_from    INT       NOT NULL,\n",
      "                         entity_type       TEXT       NOT NULL,\n",
      "                         entity_id    INT       NOT NULL,\n",
      "                         user_to     INT       NOT NULL \n",
      "                  );\n",
      "                \n"
     ]
    }
   ],
   "source": [
    "import psycopg2 as pg_driver\n",
    "\n",
    "db = pg_driver.connect(\n",
    "                        database=\"postgres\", \n",
    "                        user='postgres',\n",
    "                        password='hfnfneq2', \n",
    "                        host='localhost', \n",
    "                        port='5432'\n",
    "                    )\n",
    "\n",
    "\n",
    "\n",
    "def execute_queries(db, sql_commands):\n",
    "    db.autocommit = True\n",
    "    with db.cursor() as cursor:\n",
    "        for sql_command in sql_commands:\n",
    "            print(sql_command)\n",
    "            cursor.execute(sql_command)\n",
    "\n",
    "\n",
    "sql_commands = [\"DROP TABLE IF EXISTS users2;\",\n",
    "                \"DROP TABLE IF EXISTS likes;\",\n",
    "                \"DROP TABLE IF EXISTS photos;\",\n",
    "                \"DROP TABLE IF EXISTS comments;\",\n",
    "            \n",
    "                \n",
    "              \n",
    "                \"\"\"CREATE TABLE users2 (\n",
    "                         user_id    INT       NOT NULL,\n",
    "                         name       TEXT       NOT NULL\n",
    "                    );\n",
    "                \"\"\"\n",
    "                \"\"\"CREATE TABLE photos (\n",
    "                         photo_id    INT       NOT NULL,\n",
    "                         photo_name    TEXT       NOT NULL,\n",
    "                         author_id    INT       NOT NULL\n",
    "                  );\n",
    "                \"\"\"\n",
    "               \n",
    "                \"\"\"CREATE TABLE comments (\n",
    "                         comment_id INT       NOT NULL,\n",
    "                         user_id    INT       NOT NULL,\n",
    "                         text    TEXT       NOT NULL,\n",
    "                         author_id    INT       NOT NULL,\n",
    "                         photo_id    INT       NOT NULL\n",
    "                  );\n",
    "                \"\"\"\n",
    "                \n",
    "               \n",
    "                \"\"\"CREATE TABLE likes (\n",
    "                         user_from    INT       NOT NULL,\n",
    "                         entity_type       TEXT       NOT NULL,\n",
    "                         entity_id    INT       NOT NULL,\n",
    "                         user_to     INT       NOT NULL \n",
    "                  );\n",
    "                \"\"\"]\n",
    "\n",
    "                \n",
    "\n",
    "execute_queries(db, sql_commands)"
   ]
  },
  {
   "cell_type": "code",
   "execution_count": 10,
   "metadata": {},
   "outputs": [],
   "source": [
    "import psycopg2\n",
    "from psycopg2 import Error\n",
    "from psycopg2.extras import NamedTupleCursor\n",
    "\n",
    "def execute_query(query, fetch_result=False):\n",
    "    try:\n",
    "        connection = psycopg2.connect(\n",
    "                                database=\"postgres\", \n",
    "                                user='postgres',\n",
    "                                password='hfnfneq2', \n",
    "                                host='localhost', \n",
    "                                port='5432'\n",
    "                     )\n",
    "        connection.autocommit = True\n",
    "        cursor = connection.cursor(cursor_factory=NamedTupleCursor)\n",
    "        cursor.execute(query)\n",
    "        if fetch_result:\n",
    "            return cursor.fetchall()\n",
    "    except (Exception, Error) as error:\n",
    "        print(\"Error while connecting to PostgreSQL\", error)\n",
    "    finally:\n",
    "        if (connection):\n",
    "            cursor.close()\n",
    "            connection.close()"
   ]
  },
  {
   "cell_type": "code",
   "execution_count": 22,
   "metadata": {},
   "outputs": [
    {
     "name": "stdout",
     "output_type": "stream",
     "text": [
      "[Record(count=0)]\n",
      "[Record(count=0)]\n"
     ]
    }
   ],
   "source": [
    "import psycopg2\n",
    "from psycopg2 import Error\n",
    "from psycopg2.extras import NamedTupleCursor\n",
    "\n",
    "def execute_query(query, fetch_result=False):\n",
    "    try:\n",
    "        connection = pg_driver.connect(\n",
    "                        database=\"postgres\", \n",
    "                        user='postgres',\n",
    "                        password='hfnfneq2', \n",
    "                        host='localhost', \n",
    "                        port='5432'\n",
    "                    );\n",
    "        \n",
    "        connection.autocommit = True\n",
    "        cursor = connection.cursor(cursor_factory=NamedTupleCursor)\n",
    "        cursor.execute(query)\n",
    "        if fetch_result:\n",
    "            return cursor.fetchall()\n",
    "    except (Exception, Error) as error:\n",
    "        print(\"Error while connecting to PostgreSQL\", error)\n",
    "    finally:\n",
    "        if (connection):\n",
    "            cursor.close()\n",
    "            connection.close()\n",
    "row_count_hist = execute_query(\"select count(*) from users\", fetch_result=True)\n",
    "row_count_payment = execute_query(\"select count(*) from likes\", fetch_result=True)\n",
    "\n",
    "print(row_count_hist)\n",
    "print(row_count_payment)"
   ]
  },
  {
   "cell_type": "code",
   "execution_count": 23,
   "metadata": {},
   "outputs": [],
   "source": [
    "query = \"\"\" INSERT INTO users2 (user_id, name) \n",
    "            VALUES \n",
    "                 (1, 'Mark'),\n",
    "                 (2, 'Dima'),\n",
    "                 (3, 'Pina'),\n",
    "                 (4, 'Alice'),\n",
    "                 (5, 'Rob'),\n",
    "                 (6, 'Ann'),\n",
    "                 (7, 'Jin')\n",
    "                 \n",
    "            \n",
    "        \"\"\"\n",
    "\n",
    "execute_query(query)\n",
    "\n",
    "query = \"\"\" INSERT INTO photos (photo_id, photo_name, author_id ) \n",
    "            VALUES \n",
    "                 (1, 'Forest', 5),\n",
    "                 (2, 'River', 4),\n",
    "                 (3, 'City', 3),\n",
    "                 (4, 'Portret', 7),\n",
    "                 (5, 'Street', 1),\n",
    "                 (6, 'Member', 7),\n",
    "                 (7, 'Home', 4),\n",
    "                 (8, 'Peach', 6),\n",
    "                 (9, 'Flowers', 4),\n",
    "                 (10, 'Cats', 2),\n",
    "                 (11, 'Dogs', 2)\n",
    "                 \n",
    "            \n",
    "        \"\"\"\n",
    "\n",
    "execute_query(query)\n",
    "\n",
    "query = \"\"\" INSERT INTO comments (comment_id, user_id, text, author_id, photo_id ) \n",
    "            VALUES \n",
    "                 (1, 1, 'Cool', 6, 8),\n",
    "                 (2, 7, 'Cute', 2, 10),\n",
    "                 (3, 4, 'Want to be there', 5, 1),\n",
    "                 (4, 4, 'WWH', 7, 4),\n",
    "                 (5, 5, 'Beautiful', 4, 9)\n",
    "                 \n",
    "            \n",
    "        \"\"\"\n",
    "\n",
    "execute_query(query)\n",
    "\n",
    "query = \"\"\" INSERT INTO likes (user_from, entity_type, entity_id, user_to) \n",
    "            VALUES \n",
    "                 (1, 'person', 3, 3),\n",
    "                 (2, 'photo', 5, 1),\n",
    "                 (3, 'comment', 3, 4),\n",
    "                 (4, 'photo', 8, 6),\n",
    "                 (5, 'person', 7, 7)\n",
    "            \n",
    "        \"\"\"\n",
    "\n",
    "execute_query(query)"
   ]
  },
  {
   "cell_type": "code",
   "execution_count": 24,
   "metadata": {},
   "outputs": [
    {
     "name": "stdout",
     "output_type": "stream",
     "text": [
      "0 Record(user_id=1, name='Mark')\n",
      "1 Record(user_id=2, name='Dima')\n",
      "2 Record(user_id=3, name='Pina')\n",
      "3 Record(user_id=4, name='Alice')\n",
      "4 Record(user_id=5, name='Rob')\n",
      "5 Record(user_id=6, name='Ann')\n",
      "6 Record(user_id=7, name='Jin')\n"
     ]
    }
   ],
   "source": [
    "all_rows = execute_query(\"select * from users2\", fetch_result=True)\n",
    "for row, value in enumerate(all_rows):\n",
    "    print(row, value)"
   ]
  },
  {
   "cell_type": "code",
   "execution_count": 25,
   "metadata": {},
   "outputs": [
    {
     "name": "stdout",
     "output_type": "stream",
     "text": [
      "0 Record(name='Pina', photo_count=1)\n",
      "1 Record(name='Mark', photo_count=1)\n",
      "2 Record(name='Ann', photo_count=1)\n",
      "3 Record(name='Alice', photo_count=3)\n",
      "4 Record(name='Jin', photo_count=2)\n",
      "5 Record(name='Rob', photo_count=1)\n",
      "6 Record(name='Dima', photo_count=2)\n"
     ]
    }
   ],
   "source": [
    "query = \"\"\"select\n",
    "                u.name,\n",
    "                --p.photo_name,\n",
    "                count(*) as photo_count\n",
    "                \n",
    "           from users2 u\n",
    "           left join photos p\n",
    "           on u.user_id=p.author_id\n",
    "           group by u.name\n",
    "           \n",
    "        \"\"\"\n",
    "all_rows = execute_query(query, fetch_result=True)\n",
    "for row, value in enumerate(all_rows):\n",
    "    print(row, value)"
   ]
  },
  {
   "cell_type": "code",
   "execution_count": 26,
   "metadata": {},
   "outputs": [
    {
     "name": "stdout",
     "output_type": "stream",
     "text": [
      "0 Record(user_from=1, name='Mark', like_count=1)\n",
      "1 Record(user_from=3, name='Pina', like_count=1)\n",
      "2 Record(user_from=2, name='Dima', like_count=1)\n",
      "3 Record(user_from=5, name='Rob', like_count=1)\n",
      "4 Record(user_from=4, name='Alice', like_count=1)\n"
     ]
    }
   ],
   "source": [
    "query = \"\"\"select\n",
    "                l.user_from,\n",
    "                u.name,\n",
    "                count(*) as like_count\n",
    "                \n",
    "           from likes l\n",
    "           left join users2 u\n",
    "           on l.user_from=u.user_id\n",
    "           group by l.user_from, u.name\n",
    "           \n",
    "        \"\"\"\n",
    "all_rows = execute_query(query, fetch_result=True)\n",
    "for row, value in enumerate(all_rows):\n",
    "    print(row, value)"
   ]
  },
  {
   "cell_type": "code",
   "execution_count": 27,
   "metadata": {},
   "outputs": [
    {
     "name": "stdout",
     "output_type": "stream",
     "text": [
      "0 Record(user_to=1, name='Mark', like_count=1)\n",
      "1 Record(user_to=7, name='Jin', like_count=1)\n",
      "2 Record(user_to=3, name='Pina', like_count=1)\n",
      "3 Record(user_to=4, name='Alice', like_count=1)\n",
      "4 Record(user_to=6, name='Ann', like_count=1)\n"
     ]
    }
   ],
   "source": [
    "query = \"\"\"select\n",
    "                l.user_to,\n",
    "                u.name,\n",
    "                count(*) as like_count\n",
    "                \n",
    "           from likes l\n",
    "           left join users2 u\n",
    "           on l.user_to=u.user_id\n",
    "           group by l.user_to, u.name\n",
    "           \n",
    "        \"\"\"\n",
    "all_rows = execute_query(query, fetch_result=True)\n",
    "for row, value in enumerate(all_rows):\n",
    "    print(row, value)"
   ]
  },
  {
   "cell_type": "code",
   "execution_count": null,
   "metadata": {},
   "outputs": [],
   "source": []
  }
 ],
 "metadata": {
  "kernelspec": {
   "display_name": "Python 3",
   "language": "python",
   "name": "python3"
  },
  "language_info": {
   "codemirror_mode": {
    "name": "ipython",
    "version": 3
   },
   "file_extension": ".py",
   "mimetype": "text/x-python",
   "name": "python",
   "nbconvert_exporter": "python",
   "pygments_lexer": "ipython3",
   "version": "3.8.5"
  }
 },
 "nbformat": 4,
 "nbformat_minor": 4
}
