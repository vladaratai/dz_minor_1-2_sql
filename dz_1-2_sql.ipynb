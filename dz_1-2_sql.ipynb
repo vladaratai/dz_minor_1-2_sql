{
 "cells": [
  {
   "cell_type": "code",
   "execution_count": 2,
   "metadata": {},
   "outputs": [],
   "source": [
    "#Первое задание:\n",
    "#Есть пользователи (id, имя), которые ставят друг другу лайки. Сделать таблицы для хранения всей этой информации."
   ]
  },
  {
   "cell_type": "code",
   "execution_count": 10,
   "metadata": {},
   "outputs": [
    {
     "name": "stdout",
     "output_type": "stream",
     "text": [
      "Requirement already satisfied: psycopg2 in c:\\anaconda\\anaconda3\\lib\\site-packages (2.9.4)\n",
      "Note: you may need to restart the kernel to use updated packages.\n"
     ]
    }
   ],
   "source": [
    "%pip install psycopg2"
   ]
  },
  {
   "cell_type": "code",
   "execution_count": 11,
   "metadata": {},
   "outputs": [],
   "source": [
    "import psycopg2\n",
    "from psycopg2 import Error\n",
    "from psycopg2.extras import NamedTupleCursor\n",
    "def execute_query(query, fetch_result=False):\n",
    "    try:\n",
    "        connection = psycopg2.connect(\n",
    "                        database=\"postgres\", \n",
    "                        user='postgres',\n",
    "                        password='hfnfneq2', \n",
    "                        host='localhost', \n",
    "                        port='5432'\n",
    "                    )\n",
    "        \n",
    "        connection.autocommit = True\n",
    "        cursor = connection.cursor(cursor_factory=NamedTupleCursor)\n",
    "        cursor.execute(query)\n",
    "        if fetch_result:\n",
    "            return cursor.fetchall()\n",
    "    except (Exception, Error) as error:\n",
    "        print(\"Error while connecting to PostgreSQL\", error)\n",
    "    finally:\n",
    "        if (connection):\n",
    "            cursor.close()\n",
    "            connection.close()\n"
   ]
  },
  {
   "cell_type": "code",
   "execution_count": 12,
   "metadata": {},
   "outputs": [
    {
     "name": "stdout",
     "output_type": "stream",
     "text": [
      "DROP TABLE IF EXISTS users;\n",
      "DROP TABLE IF EXISTS likes;\n",
      "CREATE TABLE users (\n",
      "                         user_id    INT       NOT NULL,\n",
      "                         name    TEXT       NOT NULL,\n",
      "                         created    TIMESTAMP NOT NULL\n",
      "                );\n",
      "                \n",
      "CREATE TABLE likes (\n",
      "                         user_id    INT       NOT NULL,\n",
      "                         created    TIMESTAMP NOT NULL,\n",
      "                         user_id_give    INT       NOT NULL\n",
      "                  );\n",
      "                \n"
     ]
    }
   ],
   "source": [
    "import psycopg2 as pg_driver\n",
    "\n",
    "db = pg_driver.connect(\n",
    "                        database=\"postgres\", \n",
    "                        user='postgres',\n",
    "                        password='hfnfneq2', \n",
    "                        host='localhost', \n",
    "                        port='5432'\n",
    "                    )\n",
    "\n",
    "\n",
    "\n",
    "def execute_queries(db, sql_commands):\n",
    "    db.autocommit = True\n",
    "    with db.cursor() as cursor:\n",
    "        for sql_command in sql_commands:\n",
    "            print(sql_command)\n",
    "            cursor.execute(sql_command)\n",
    "\n",
    "\n",
    "sql_commands = [\"DROP TABLE IF EXISTS users;\",\n",
    "                \"DROP TABLE IF EXISTS likes;\",\n",
    "                \"\"\"CREATE TABLE users (\n",
    "                         user_id    INT       NOT NULL,\n",
    "                         name    TEXT       NOT NULL,\n",
    "                         created    TIMESTAMP NOT NULL\n",
    "                );\n",
    "                \"\"\",\n",
    "                \"\"\"CREATE TABLE likes (\n",
    "                         user_id    INT       NOT NULL,\n",
    "                         created    TIMESTAMP NOT NULL,\n",
    "                         user_id_give    INT       NOT NULL\n",
    "                  );\n",
    "                \"\"\"]\n",
    "\n",
    "\n",
    "execute_queries(db, sql_commands)\n"
   ]
  },
  {
   "cell_type": "code",
   "execution_count": 13,
   "metadata": {},
   "outputs": [
    {
     "name": "stdout",
     "output_type": "stream",
     "text": [
      "[Record(count=0)]\n",
      "[Record(count=0)]\n"
     ]
    }
   ],
   "source": [
    "import psycopg2\n",
    "from psycopg2 import Error\n",
    "from psycopg2.extras import NamedTupleCursor\n",
    "\n",
    "def execute_query(query, fetch_result=False):\n",
    "    try:\n",
    "        connection = pg_driver.connect(\n",
    "                        database=\"postgres\", \n",
    "                        user='postgres',\n",
    "                        password='hfnfneq2', \n",
    "                        host='localhost', \n",
    "                        port='5432'\n",
    "                    );\n",
    "        \n",
    "        connection.autocommit = True\n",
    "        cursor = connection.cursor(cursor_factory=NamedTupleCursor)\n",
    "        cursor.execute(query)\n",
    "        if fetch_result:\n",
    "            return cursor.fetchall()\n",
    "    except (Exception, Error) as error:\n",
    "        print(\"Error while connecting to PostgreSQL\", error)\n",
    "    finally:\n",
    "        if (connection):\n",
    "            cursor.close()\n",
    "            connection.close()\n",
    "row_count_hist = execute_query(\"select count(*) from users\", fetch_result=True)\n",
    "row_count_payment = execute_query(\"select count(*) from likes\", fetch_result=True)\n",
    "\n",
    "print(row_count_hist)\n",
    "print(row_count_payment)"
   ]
  },
  {
   "cell_type": "code",
   "execution_count": 14,
   "metadata": {},
   "outputs": [
    {
     "name": "stdout",
     "output_type": "stream",
     "text": [
      "[Record(count=0)]\n",
      "[Record(count=0)]\n"
     ]
    }
   ],
   "source": [
    "import psycopg2\n",
    "from psycopg2 import Error\n",
    "from psycopg2.extras import NamedTupleCursor\n",
    "\n",
    "def execute_query(query, fetch_result=False):\n",
    "    try:\n",
    "        connection = pg_driver.connect(\n",
    "                        database=\"postgres\", \n",
    "                        user='postgres',\n",
    "                        password='hfnfneq2', \n",
    "                        host='localhost', \n",
    "                        port='5432'\n",
    "                    );\n",
    "        \n",
    "        connection.autocommit = True\n",
    "        cursor = connection.cursor(cursor_factory=NamedTupleCursor)\n",
    "        cursor.execute(query)\n",
    "        if fetch_result:\n",
    "            return cursor.fetchall()\n",
    "    except (Exception, Error) as error:\n",
    "        print(\"Error while connecting to PostgreSQL\", error)\n",
    "    finally:\n",
    "        if (connection):\n",
    "            cursor.close()\n",
    "            connection.close()\n",
    "row_count_hist = execute_query(\"select count(*) from users\", fetch_result=True)\n",
    "row_count_payment = execute_query(\"select count(*) from likes\", fetch_result=True)\n",
    "\n",
    "print(row_count_hist)\n",
    "print(row_count_payment)"
   ]
  },
  {
   "cell_type": "code",
   "execution_count": 15,
   "metadata": {},
   "outputs": [],
   "source": [
    "query = \"\"\" INSERT INTO users (user_id, created, name) \n",
    "            VALUES \n",
    "                 (1, to_timestamp('21-05-2021 12:35:11', 'dd-mm-yyyy hh24:mi:ss'), 'Petya'),\n",
    "                 (2, to_timestamp('13-02-2013 13:35:11', 'dd-mm-yyyy hh24:mi:ss'), 'Dima'),\n",
    "                 (3, to_timestamp('14-03-2002 05:35:11', 'dd-mm-yyyy hh24:mi:ss'), 'Kirill'),\n",
    "                 (4, to_timestamp('15-05-2011 14:35:11', 'dd-mm-yyyy hh24:mi:ss'), 'Anna'),\n",
    "                 (5, to_timestamp('28-08-2013 17:35:11', 'dd-mm-yyyy hh24:mi:ss'), 'Nick')\n",
    "                 \n",
    "            \n",
    "        \"\"\"\n",
    "\n",
    "execute_query(query)\n",
    "\n",
    "query = \"\"\" INSERT INTO likes (user_id, created, user_id_give) \n",
    "            VALUES \n",
    "                 (1, to_timestamp('21-05-2021 12:35:11', 'dd-mm-yyyy hh24:mi:ss'), 5),\n",
    "                 (2, to_timestamp('13-02-2013 13:35:11', 'dd-mm-yyyy hh24:mi:ss'), 4),\n",
    "                 (3, to_timestamp('14-03-2002 05:35:11', 'dd-mm-yyyy hh24:mi:ss'), 3),\n",
    "                 (4, to_timestamp('15-05-2011 14:35:11', 'dd-mm-yyyy hh24:mi:ss'), 2),\n",
    "                 (5, to_timestamp('28-08-2013 17:35:11', 'dd-mm-yyyy hh24:mi:ss'), 1)\n",
    "                 \n",
    "            \n",
    "        \"\"\"\n",
    "\n",
    "execute_query(query)\n",
    "\n",
    "\n",
    "     \n",
    "\n",
    "query = \"\"\" INSERT INTO likes (user_id, created, user_id_give) \n",
    "            VALUES \n",
    "                 (1, to_timestamp('21-05-2021 12:35:11', 'dd-mm-yyyy hh24:mi:ss'), 4),\n",
    "                 (1, to_timestamp('13-02-2013 13:35:11', 'dd-mm-yyyy hh24:mi:ss'), 5),\n",
    "                 (2, to_timestamp('13-02-2013 13:35:11', 'dd-mm-yyyy hh24:mi:ss'), 5)\n",
    "                 \n",
    "\n",
    "                 \n",
    "            \n",
    "        \"\"\"\n",
    "\n",
    "execute_query(query)"
   ]
  },
  {
   "cell_type": "code",
   "execution_count": 16,
   "metadata": {},
   "outputs": [],
   "source": [
    "query = \"\"\" INSERT INTO users (user_id, created, name) \n",
    "            VALUES \n",
    "                 (1, to_timestamp('21-05-2021 12:35:11', 'dd-mm-yyyy hh24:mi:ss'), 'Petya')\n",
    " \n",
    "        \"\"\"\n",
    "\n",
    "execute_query(query)\n",
    "\n",
    "query = \"\"\" INSERT INTO likes (user_id, created, user_id_give) \n",
    "            VALUES \n",
    "                 (1, to_timestamp('21-05-2021 12:35:11', 'dd-mm-yyyy hh24:mi:ss'), 4)\n",
    "            \n",
    "        \"\"\"\n",
    "\n",
    "execute_query(query)"
   ]
  },
  {
   "cell_type": "code",
   "execution_count": 17,
   "metadata": {},
   "outputs": [],
   "source": [
    "#Далее запросы"
   ]
  },
  {
   "cell_type": "code",
   "execution_count": 18,
   "metadata": {},
   "outputs": [
    {
     "name": "stdout",
     "output_type": "stream",
     "text": [
      "0 Record(user_id=1, name='Petya', put_likes=8, given_likes=8)\n",
      "1 Record(user_id=5, name='Nick', put_likes=1, given_likes=1)\n",
      "2 Record(user_id=2, name='Dima', put_likes=2, given_likes=2)\n",
      "3 Record(user_id=4, name='Anna', put_likes=1, given_likes=1)\n",
      "4 Record(user_id=3, name='Kirill', put_likes=1, given_likes=1)\n"
     ]
    }
   ],
   "source": [
    "query = '''\n",
    "           select u.user_id,\n",
    "                  u.name, \n",
    "                  count(l.user_id) as put_likes,\n",
    "                  count(l.user_id_give) as given_likes \n",
    "            from users u\n",
    "            left join likes l on u.user_id = l.user_id\n",
    "            group by u.user_id, u.name\n",
    "            \n",
    "            '''\n",
    "all_rows = execute_query(query, fetch_result=True)\n",
    "for row, value in enumerate(all_rows):\n",
    "    print(row, value)"
   ]
  },
  {
   "cell_type": "code",
   "execution_count": 19,
   "metadata": {},
   "outputs": [
    {
     "name": "stdout",
     "output_type": "stream",
     "text": [
      "0 Record(user_id=3, name='Kirill', mutual_likes=1)\n"
     ]
    }
   ],
   "source": [
    "query = '''\n",
    "           select u.user_id,\n",
    "                  u.name, \n",
    "                  count(l.user_id_give) as mutual_likes \n",
    "            from users u\n",
    "            left join likes l on u.user_id = l.user_id\n",
    "            where u.user_id = l.user_id_give\n",
    "            group by u.user_id, u.name\n",
    "            \n",
    "            '''\n",
    "all_rows = execute_query(query, fetch_result=True)\n",
    "for row, value in enumerate(all_rows):\n",
    "    print(row, value)"
   ]
  },
  {
   "cell_type": "code",
   "execution_count": 20,
   "metadata": {},
   "outputs": [
    {
     "name": "stdout",
     "output_type": "stream",
     "text": [
      "0 Record(user_id=5, name='Nick', given_likes=3)\n",
      "1 Record(user_id=4, name='Anna', given_likes=3)\n",
      "2 Record(user_id=1, name='Petya', given_likes=2)\n",
      "3 Record(user_id=2, name='Dima', given_likes=1)\n",
      "4 Record(user_id=3, name='Kirill', given_likes=1)\n"
     ]
    }
   ],
   "source": [
    "query = '''\n",
    "           select u.user_id,\n",
    "                  u.name, \n",
    "                  count(l.user_id_give) as given_likes\n",
    "            from users u\n",
    "            left join likes l on u.user_id = l.user_id_give\n",
    "            group by u.user_id, u.name\n",
    "            order by given_likes desc\n",
    "            limit 5;\n",
    "            \n",
    "            '''\n",
    "all_rows = execute_query(query, fetch_result=True)\n",
    "for row, value in enumerate(all_rows):\n",
    "    print(row, value)"
   ]
  },
  {
   "cell_type": "code",
   "execution_count": 21,
   "metadata": {},
   "outputs": [],
   "source": [
    "#Второе задание\n",
    "#В воображаемой социальной сети есть Пользователи (id, имя), Фото (id, название, автор) и Комментарии К Фото (id, текст, автор, к какому Фото относится). Необходимо добавить возможность для Пользователей ставить лайки другим Пользователям, Фото или Комментариям к Фото."
   ]
  },
  {
   "cell_type": "code",
   "execution_count": 22,
   "metadata": {},
   "outputs": [
    {
     "name": "stdout",
     "output_type": "stream",
     "text": [
      "DROP TABLE IF EXISTS users;\n",
      "DROP TABLE IF EXISTS likes;\n",
      "DROP TABLE IF EXISTS photos;\n",
      "DROP TABLE IF EXISTS comments;\n",
      "DROP TABLE IF EXISTS types\n",
      "CREATE TABLE users (\n",
      "                         user_id    INT       NOT NULL,\n",
      "                         name       TEXT       NOT NULL, \n",
      "                         type_id       TEXT NOT NULL\n",
      "                    );\n",
      "                CREATE TABLE photos (\n",
      "                         photo_id    INT       NOT NULL,\n",
      "                         title    TEXT NOT NULL,\n",
      "                         user_id    INT       NOT NULL,\n",
      "                         type_id TEXT NOT NULL\n",
      "                  );\n",
      "                CREATE TABLE comments (\n",
      "                         comment_id INT       NOT NULL,\n",
      "                         user_id    INT       NOT NULL,\n",
      "                         comment    TEXT NOT NULL,\n",
      "                         photo_id INT NOT NULL,\n",
      "                         type_id INT NOT NULL\n",
      "                  );\n",
      "                CREATE TABLE types (\n",
      "                         type_id    INT       NOT NULL,\n",
      "                         type    TEXT NOT NULL\n",
      "                  );\n",
      "                CREATE TABLE likes (\n",
      "                         user_id    INT       NOT NULL,\n",
      "                         type_id    TEXT NOT NULL,\n",
      "                         to_user_id INT NOT NULL,\n",
      "                         to_photo_id INT NOT NULL,\n",
      "                         comment_id INT NOT NULL\n",
      "                  );\n",
      "                \n"
     ]
    }
   ],
   "source": [
    "import psycopg2 as pg_driver\n",
    "\n",
    "db = pg_driver.connect(\n",
    "                        database=\"postgres\", \n",
    "                        user='postgres',\n",
    "                        password='hfnfneq2', \n",
    "                        host='localhost', \n",
    "                        port='5432'\n",
    "                    )\n",
    "\n",
    "\n",
    "\n",
    "def execute_queries(db, sql_commands):\n",
    "    db.autocommit = True\n",
    "    with db.cursor() as cursor:\n",
    "        for sql_command in sql_commands:\n",
    "            print(sql_command)\n",
    "            cursor.execute(sql_command)\n",
    "\n",
    "\n",
    "sql_commands = [\"DROP TABLE IF EXISTS users;\",\n",
    "                \"DROP TABLE IF EXISTS likes;\",\n",
    "                \"DROP TABLE IF EXISTS photos;\",\n",
    "                \"DROP TABLE IF EXISTS comments;\",\n",
    "                \"DROP TABLE IF EXISTS types\",\n",
    "                \n",
    "              \n",
    "                \"\"\"CREATE TABLE users (\n",
    "                         user_id    INT       NOT NULL,\n",
    "                         name       TEXT       NOT NULL, \n",
    "                         type_id       TEXT NOT NULL\n",
    "                    );\n",
    "                \"\"\"\n",
    "                \"\"\"CREATE TABLE photos (\n",
    "                         photo_id    INT       NOT NULL,\n",
    "                         title    TEXT NOT NULL,\n",
    "                         user_id    INT       NOT NULL,\n",
    "                         type_id TEXT NOT NULL\n",
    "                  );\n",
    "                \"\"\"\n",
    "               \n",
    "                \"\"\"CREATE TABLE comments (\n",
    "                         comment_id INT       NOT NULL,\n",
    "                         user_id    INT       NOT NULL,\n",
    "                         comment    TEXT NOT NULL,\n",
    "                         photo_id INT NOT NULL,\n",
    "                         type_id INT NOT NULL\n",
    "                  );\n",
    "                \"\"\"\n",
    "                \n",
    "                \"\"\"CREATE TABLE types (\n",
    "                         type_id    INT       NOT NULL,\n",
    "                         type    TEXT NOT NULL\n",
    "                  );\n",
    "                \"\"\"\n",
    "               \n",
    "                \"\"\"CREATE TABLE likes (\n",
    "                         user_id    INT       NOT NULL,\n",
    "                         type_id    TEXT NOT NULL,\n",
    "                         to_user_id INT NOT NULL,\n",
    "                         to_photo_id INT NOT NULL,\n",
    "                         comment_id INT NOT NULL\n",
    "                  );\n",
    "                \"\"\"]\n",
    "\n",
    "                \n",
    "\n",
    "execute_queries(db, sql_commands)"
   ]
  },
  {
   "cell_type": "code",
   "execution_count": 23,
   "metadata": {},
   "outputs": [],
   "source": [
    "import psycopg2\n",
    "from psycopg2 import Error\n",
    "from psycopg2.extras import NamedTupleCursor\n",
    "\n",
    "def execute_query(query, fetch_result=False):\n",
    "    try:\n",
    "        connection = psycopg2.connect(\n",
    "                                database=\"postgres\", \n",
    "                                user='postgres',\n",
    "                                password='hfnfneq2', \n",
    "                                host='localhost', \n",
    "                                port='5432'\n",
    "                     )\n",
    "        connection.autocommit = True\n",
    "        cursor = connection.cursor(cursor_factory=NamedTupleCursor)\n",
    "        cursor.execute(query)\n",
    "        if fetch_result:\n",
    "            return cursor.fetchall()\n",
    "    except (Exception, Error) as error:\n",
    "        print(\"Error while connecting to PostgreSQL\", error)\n",
    "    finally:\n",
    "        if (connection):\n",
    "            cursor.close()\n",
    "            connection.close()"
   ]
  },
  {
   "cell_type": "code",
   "execution_count": 24,
   "metadata": {},
   "outputs": [
    {
     "name": "stdout",
     "output_type": "stream",
     "text": [
      "[Record(count=0)]\n",
      "[Record(count=0)]\n"
     ]
    }
   ],
   "source": [
    "import psycopg2\n",
    "from psycopg2 import Error\n",
    "from psycopg2.extras import NamedTupleCursor\n",
    "\n",
    "def execute_query(query, fetch_result=False):\n",
    "    try:\n",
    "        connection = pg_driver.connect(\n",
    "                        database=\"postgres\", \n",
    "                        user='postgres',\n",
    "                        password='hfnfneq2', \n",
    "                        host='localhost', \n",
    "                        port='5432'\n",
    "                    );\n",
    "        \n",
    "        connection.autocommit = True\n",
    "        cursor = connection.cursor(cursor_factory=NamedTupleCursor)\n",
    "        cursor.execute(query)\n",
    "        if fetch_result:\n",
    "            return cursor.fetchall()\n",
    "    except (Exception, Error) as error:\n",
    "        print(\"Error while connecting to PostgreSQL\", error)\n",
    "    finally:\n",
    "        if (connection):\n",
    "            cursor.close()\n",
    "            connection.close()\n",
    "row_count_hist = execute_query(\"select count(*) from users\", fetch_result=True)\n",
    "row_count_payment = execute_query(\"select count(*) from likes\", fetch_result=True)\n",
    "\n",
    "print(row_count_hist)\n",
    "print(row_count_payment)"
   ]
  },
  {
   "cell_type": "code",
   "execution_count": 25,
   "metadata": {},
   "outputs": [],
   "source": [
    "query = \"\"\" INSERT INTO users (user_id, name, type_id) \n",
    "            VALUES \n",
    "                 (1, 'Katya', 101),\n",
    "                 (2, 'Larisa', 101),\n",
    "                 (3, 'Lena', 101),\n",
    "                 (4, 'Nick', 101),\n",
    "                 (5, 'Edward', 101), \n",
    "                 (6, 'Shawn', 101), \n",
    "                 (7, 'Liza', 101)\n",
    "                 \n",
    "            \n",
    "        \"\"\"\n",
    "execute_query(query)"
   ]
  },
  {
   "cell_type": "code",
   "execution_count": 26,
   "metadata": {},
   "outputs": [],
   "source": [
    "query = \"\"\" INSERT INTO photos (photo_id, title, user_id, type_id) \n",
    "            VALUES \n",
    "                 (21, 'IMG_1243.jpg', 1, 202),\n",
    "                 (22, 'IMG_3421.jpg', 2, 202),\n",
    "                 (23, 'IMG_1495.jpg', 3, 202),\n",
    "                 (24, 'IMG_0923.jpg', 4, 202),\n",
    "                 (25, 'IMG_5764.jpg', 5, 202)\n",
    "                 \n",
    "            \n",
    "        \"\"\"\n",
    "\n",
    "execute_query(query)"
   ]
  },
  {
   "cell_type": "code",
   "execution_count": 27,
   "metadata": {},
   "outputs": [],
   "source": [
    "query = \"\"\" INSERT INTO comments (comment_id, user_id, comment, photo_id, type_id) \n",
    "            VALUES \n",
    "                 (71, 1, 'Love it', 8, 303),\n",
    "                 (72, 1, 'Where is it?', 9, 303),\n",
    "                 (73, 7, 'OMG', 10, 303),\n",
    "                 (74, 2, 'Beautiful!', 11, 303),\n",
    "                 (75, 6, 'Love Norway!', 12, 303)\n",
    "                 \n",
    "            \n",
    "        \"\"\"\n",
    "execute_query(query)"
   ]
  },
  {
   "cell_type": "code",
   "execution_count": 28,
   "metadata": {},
   "outputs": [],
   "source": [
    "query = \"\"\" INSERT INTO types (type_id, type) \n",
    "            VALUES \n",
    "                 (101, 'user'),\n",
    "                 (202, 'photo'),\n",
    "                 (303, 'comment')\n",
    "                 \n",
    "            \n",
    "        \"\"\"\n",
    "execute_query(query)"
   ]
  },
  {
   "cell_type": "code",
   "execution_count": 29,
   "metadata": {},
   "outputs": [],
   "source": [
    "query = \"\"\" INSERT INTO likes (user_id, type_id, to_user_id, to_photo_id, comment_id) \n",
    "            VALUES \n",
    "                 (1, 202, 7, 21, 71),\n",
    "                 (2, 101, 4, 25, 75),\n",
    "                 (3, 303, 2, 24, 73),\n",
    "                 (4, 101, 7, 21, 71),\n",
    "                 (5, 202, 3, 21, 71)\n",
    "                 \n",
    "        \"\"\"\n",
    "execute_query(query)"
   ]
  }
 ],
 "metadata": {
  "kernelspec": {
   "display_name": "Python 3",
   "language": "python",
   "name": "python3"
  },
  "language_info": {
   "codemirror_mode": {
    "name": "ipython",
    "version": 3
   },
   "file_extension": ".py",
   "mimetype": "text/x-python",
   "name": "python",
   "nbconvert_exporter": "python",
   "pygments_lexer": "ipython3",
   "version": "3.8.5"
  }
 },
 "nbformat": 4,
 "nbformat_minor": 4
}
